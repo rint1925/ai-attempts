{
  "cells": [
    {
      "cell_type": "code",
      "execution_count": null,
      "metadata": {
        "id": "G1KU-GLWPAxr"
      },
      "outputs": [],
      "source": [
        "import torch\n",
        "import torch.nn as nn\n",
        "import torch.nn.functional as f\n",
        "import numpy as np\n",
        "import matplotlib.pyplot as plt\n",
        "from torch.utils.data import DataLoader\n",
        "from torchvision import datasets\n",
        "from torchvision import transforms"
      ]
    },
    {
      "cell_type": "code",
      "execution_count": null,
      "metadata": {
        "colab": {
          "base_uri": "https://localhost:8080/"
        },
        "id": "eURhXBoiYSEp",
        "outputId": "36b48b65-1d38-4f40-bcd0-c1996d0d67db"
      },
      "outputs": [
        {
          "name": "stdout",
          "output_type": "stream",
          "text": [
            "cuda:0\n"
          ]
        }
      ],
      "source": [
        "device = torch.device('cuda:0' if torch.cuda.is_available() else 'cpu')\n",
        "print(device)"
      ]
    },
    {
      "cell_type": "code",
      "execution_count": null,
      "metadata": {
        "colab": {
          "base_uri": "https://localhost:8080/"
        },
        "id": "CNgyM9ZxPAxu",
        "outputId": "a2f333b3-77d5-4f71-fe3f-c348ffec149c"
      },
      "outputs": [
        {
          "name": "stdout",
          "output_type": "stream",
          "text": [
            "Files already downloaded and verified\n",
            "Files already downloaded and verified\n"
          ]
        }
      ],
      "source": [
        "# Download CIFAR-10 dataset\n",
        "data_train = datasets.CIFAR10('./datasets/', train=True, download=True, transform=transforms.ToTensor())\n",
        "data_test = datasets.CIFAR10('./datasets/', train=False, download=True, transform=transforms.ToTensor())\n",
        "\n",
        "# Instantiate dataloaders\n",
        "train_loader = DataLoader(data_train, batch_size=64)\n",
        "test_loader = DataLoader(data_train, batch_size=64)"
      ]
    },
    {
      "cell_type": "code",
      "execution_count": null,
      "metadata": {
        "id": "t2V7botlPAxv"
      },
      "outputs": [],
      "source": [
        "# Difine CNN model class\n",
        "\n",
        "class LeNet5(nn.Module):\n",
        "    def __init__(self):\n",
        "        super().__init__()\n",
        "        self.conv1 = nn.Conv2d(3, 6, 5, 1, 0)\n",
        "        self.conv2 = nn.Conv2d(6, 16, 5, 1, 0)\n",
        "        self.pool = nn.MaxPool2d(2, 2) # Immutable\n",
        "        self.fc1 = nn.Linear(16*5*5, 120)\n",
        "        self.fc2 = nn.Linear(120, 84)\n",
        "        self.fc3 = nn.Linear(84, 10)\n",
        "\n",
        "    def forward(self, x):\n",
        "        x = f.relu(self.conv1(x)) #(Batch,3,32,32) => (B,6,28,28)\n",
        "        x = self.pool(x) #(B,6,28,28) => (B,6,14,14)\n",
        "        x = f.relu(self.conv2(x)) #(B,6,14,14) => (B,16,10,10)\n",
        "        x = self.pool(x) #(B,16,10,10) => (B,16,5,5)\n",
        "        x = x.view(-1, 16*5*5) # (B,16,5,5) => (B,400)\n",
        "        x = f.relu(self.fc1(x)) #(B,400) => (B,120)\n",
        "        x = f.relu(self.fc2(x)) #(B,120) => (B,84)\n",
        "        x = self.fc3(x) #(B,84) => (B,10)\n",
        "        \n",
        "        return x\n",
        "\n",
        "\n",
        "def count_correct(y_pred, y):\n",
        "    y_pred_np = y_pred.detach().cpu().numpy()\n",
        "    y_pred_list = [np.argmax(y_pred_np[i]) for i in range(len(y_pred_np))]\n",
        "    y_list = y.detach().cpu().tolist()\n",
        "    denom = len(y_list)\n",
        "    cnt = 0\n",
        "    \n",
        "    for y1, y2 in zip(y_pred_list, y_list):\n",
        "        if y1 == y2:\n",
        "            cnt += 1\n",
        "\n",
        "    return cnt, denom"
      ]
    },
    {
      "cell_type": "code",
      "execution_count": null,
      "metadata": {
        "colab": {
          "base_uri": "https://localhost:8080/"
        },
        "id": "rEwkuSgBPAxw",
        "outputId": "b79a55fe-277c-445d-e02f-f5366c1d759e"
      },
      "outputs": [
        {
          "name": "stdout",
          "output_type": "stream",
          "text": [
            "epoch: 0, tr_loss: 0.02813, te_loss: 0.02529, tr_acc: 0.34, te_acc: 0.41\n",
            "epoch: 1, tr_loss: 0.02343, te_loss: 0.02206, tr_acc: 0.46, te_acc: 0.49\n",
            "epoch: 2, tr_loss: 0.02170, te_loss: 0.02072, tr_acc: 0.50, te_acc: 0.52\n",
            "epoch: 3, tr_loss: 0.02049, te_loss: 0.01952, tr_acc: 0.53, te_acc: 0.55\n",
            "epoch: 4, tr_loss: 0.01956, te_loss: 0.01864, tr_acc: 0.55, te_acc: 0.57\n",
            "epoch: 5, tr_loss: 0.01879, te_loss: 0.01799, tr_acc: 0.57, te_acc: 0.59\n",
            "epoch: 6, tr_loss: 0.01815, te_loss: 0.01760, tr_acc: 0.59, te_acc: 0.60\n",
            "epoch: 7, tr_loss: 0.01759, te_loss: 0.01709, tr_acc: 0.60, te_acc: 0.61\n",
            "epoch: 8, tr_loss: 0.01705, te_loss: 0.01660, tr_acc: 0.61, te_acc: 0.62\n",
            "epoch: 9, tr_loss: 0.01658, te_loss: 0.01619, tr_acc: 0.62, te_acc: 0.63\n",
            "epoch: 10, tr_loss: 0.01618, te_loss: 0.01596, tr_acc: 0.63, te_acc: 0.63\n",
            "epoch: 11, tr_loss: 0.01583, te_loss: 0.01570, tr_acc: 0.64, te_acc: 0.64\n",
            "epoch: 12, tr_loss: 0.01549, te_loss: 0.01544, tr_acc: 0.65, te_acc: 0.65\n",
            "epoch: 13, tr_loss: 0.01524, te_loss: 0.01505, tr_acc: 0.66, te_acc: 0.66\n",
            "epoch: 14, tr_loss: 0.01494, te_loss: 0.01467, tr_acc: 0.66, te_acc: 0.67\n",
            "epoch: 15, tr_loss: 0.01470, te_loss: 0.01455, tr_acc: 0.67, te_acc: 0.67\n",
            "epoch: 16, tr_loss: 0.01445, te_loss: 0.01446, tr_acc: 0.68, te_acc: 0.67\n",
            "epoch: 17, tr_loss: 0.01426, te_loss: 0.01412, tr_acc: 0.68, te_acc: 0.68\n",
            "epoch: 18, tr_loss: 0.01404, te_loss: 0.01383, tr_acc: 0.68, te_acc: 0.69\n",
            "epoch: 19, tr_loss: 0.01379, te_loss: 0.01359, tr_acc: 0.69, te_acc: 0.69\n",
            "epoch: 20, tr_loss: 0.01355, te_loss: 0.01333, tr_acc: 0.70, te_acc: 0.70\n",
            "epoch: 21, tr_loss: 0.01335, te_loss: 0.01317, tr_acc: 0.70, te_acc: 0.70\n",
            "epoch: 22, tr_loss: 0.01322, te_loss: 0.01314, tr_acc: 0.70, te_acc: 0.70\n",
            "epoch: 23, tr_loss: 0.01310, te_loss: 0.01316, tr_acc: 0.71, te_acc: 0.70\n",
            "epoch: 24, tr_loss: 0.01297, te_loss: 0.01328, tr_acc: 0.71, te_acc: 0.70\n",
            "epoch: 25, tr_loss: 0.01292, te_loss: 0.01368, tr_acc: 0.71, te_acc: 0.69\n",
            "epoch: 26, tr_loss: 0.01277, te_loss: 0.01395, tr_acc: 0.71, te_acc: 0.69\n",
            "epoch: 27, tr_loss: 0.01267, te_loss: 0.01381, tr_acc: 0.71, te_acc: 0.69\n",
            "epoch: 28, tr_loss: 0.01249, te_loss: 0.01376, tr_acc: 0.72, te_acc: 0.69\n",
            "epoch: 29, tr_loss: 0.01234, te_loss: 0.01361, tr_acc: 0.72, te_acc: 0.69\n",
            "epoch: 30, tr_loss: 0.01225, te_loss: 0.01358, tr_acc: 0.72, te_acc: 0.69\n",
            "epoch: 31, tr_loss: 0.01211, te_loss: 0.01311, tr_acc: 0.73, te_acc: 0.70\n",
            "epoch: 32, tr_loss: 0.01195, te_loss: 0.01320, tr_acc: 0.73, te_acc: 0.70\n",
            "epoch: 33, tr_loss: 0.01184, te_loss: 0.01322, tr_acc: 0.73, te_acc: 0.70\n",
            "epoch: 34, tr_loss: 0.01169, te_loss: 0.01337, tr_acc: 0.74, te_acc: 0.70\n",
            "epoch: 35, tr_loss: 0.01159, te_loss: 0.01348, tr_acc: 0.74, te_acc: 0.70\n",
            "epoch: 36, tr_loss: 0.01160, te_loss: 0.01387, tr_acc: 0.74, te_acc: 0.69\n",
            "epoch: 37, tr_loss: 0.01156, te_loss: 0.01403, tr_acc: 0.74, te_acc: 0.69\n",
            "epoch: 38, tr_loss: 0.01142, te_loss: 0.01370, tr_acc: 0.74, te_acc: 0.69\n",
            "epoch: 39, tr_loss: 0.01135, te_loss: 0.01332, tr_acc: 0.74, te_acc: 0.70\n",
            "epoch: 40, tr_loss: 0.01122, te_loss: 0.01337, tr_acc: 0.75, te_acc: 0.70\n",
            "epoch: 41, tr_loss: 0.01106, te_loss: 0.01336, tr_acc: 0.75, te_acc: 0.70\n",
            "epoch: 42, tr_loss: 0.01105, te_loss: 0.01341, tr_acc: 0.75, te_acc: 0.70\n",
            "epoch: 43, tr_loss: 0.01087, te_loss: 0.01306, tr_acc: 0.75, te_acc: 0.71\n",
            "epoch: 44, tr_loss: 0.01074, te_loss: 0.01304, tr_acc: 0.76, te_acc: 0.71\n",
            "epoch: 45, tr_loss: 0.01063, te_loss: 0.01265, tr_acc: 0.76, te_acc: 0.72\n",
            "epoch: 46, tr_loss: 0.01053, te_loss: 0.01216, tr_acc: 0.76, te_acc: 0.73\n",
            "epoch: 47, tr_loss: 0.01051, te_loss: 0.01218, tr_acc: 0.76, te_acc: 0.73\n",
            "epoch: 48, tr_loss: 0.01053, te_loss: 0.01257, tr_acc: 0.76, te_acc: 0.72\n",
            "epoch: 49, tr_loss: 0.01063, te_loss: 0.01235, tr_acc: 0.76, te_acc: 0.72\n",
            "epoch: 50, tr_loss: 0.01058, te_loss: 0.01238, tr_acc: 0.76, te_acc: 0.72\n",
            "epoch: 51, tr_loss: 0.01042, te_loss: 0.01263, tr_acc: 0.76, te_acc: 0.72\n",
            "epoch: 52, tr_loss: 0.01038, te_loss: 0.01271, tr_acc: 0.76, te_acc: 0.72\n",
            "epoch: 53, tr_loss: 0.01019, te_loss: 0.01286, tr_acc: 0.77, te_acc: 0.71\n",
            "epoch: 54, tr_loss: 0.01011, te_loss: 0.01266, tr_acc: 0.77, te_acc: 0.72\n",
            "epoch: 55, tr_loss: 0.01001, te_loss: 0.01309, tr_acc: 0.77, te_acc: 0.71\n",
            "epoch: 56, tr_loss: 0.00994, te_loss: 0.01330, tr_acc: 0.77, te_acc: 0.71\n",
            "epoch: 57, tr_loss: 0.00985, te_loss: 0.01376, tr_acc: 0.78, te_acc: 0.70\n",
            "epoch: 58, tr_loss: 0.00978, te_loss: 0.01374, tr_acc: 0.78, te_acc: 0.70\n",
            "epoch: 59, tr_loss: 0.00970, te_loss: 0.01307, tr_acc: 0.78, te_acc: 0.71\n",
            "epoch: 60, tr_loss: 0.00961, te_loss: 0.01312, tr_acc: 0.78, te_acc: 0.71\n",
            "epoch: 61, tr_loss: 0.00955, te_loss: 0.01245, tr_acc: 0.78, te_acc: 0.73\n",
            "epoch: 62, tr_loss: 0.00950, te_loss: 0.01276, tr_acc: 0.78, te_acc: 0.72\n",
            "epoch: 63, tr_loss: 0.00950, te_loss: 0.01317, tr_acc: 0.78, te_acc: 0.71\n",
            "epoch: 64, tr_loss: 0.00954, te_loss: 0.01328, tr_acc: 0.78, te_acc: 0.71\n",
            "epoch: 65, tr_loss: 0.00946, te_loss: 0.01325, tr_acc: 0.78, te_acc: 0.71\n",
            "epoch: 66, tr_loss: 0.00943, te_loss: 0.01228, tr_acc: 0.78, te_acc: 0.73\n",
            "epoch: 67, tr_loss: 0.00940, te_loss: 0.01177, tr_acc: 0.78, te_acc: 0.74\n",
            "epoch: 68, tr_loss: 0.00931, te_loss: 0.01182, tr_acc: 0.79, te_acc: 0.74\n",
            "epoch: 69, tr_loss: 0.00926, te_loss: 0.01168, tr_acc: 0.79, te_acc: 0.74\n",
            "epoch: 70, tr_loss: 0.00925, te_loss: 0.01225, tr_acc: 0.79, te_acc: 0.73\n",
            "epoch: 71, tr_loss: 0.00921, te_loss: 0.01224, tr_acc: 0.79, te_acc: 0.73\n",
            "epoch: 72, tr_loss: 0.00922, te_loss: 0.01257, tr_acc: 0.79, te_acc: 0.73\n",
            "epoch: 73, tr_loss: 0.00931, te_loss: 0.01222, tr_acc: 0.78, te_acc: 0.74\n",
            "epoch: 74, tr_loss: 0.00937, te_loss: 0.01176, tr_acc: 0.78, te_acc: 0.74\n",
            "epoch: 75, tr_loss: 0.00928, te_loss: 0.01110, tr_acc: 0.79, te_acc: 0.76\n",
            "epoch: 76, tr_loss: 0.00925, te_loss: 0.01160, tr_acc: 0.79, te_acc: 0.75\n",
            "epoch: 77, tr_loss: 0.00902, te_loss: 0.01148, tr_acc: 0.79, te_acc: 0.75\n",
            "epoch: 78, tr_loss: 0.00891, te_loss: 0.01175, tr_acc: 0.80, te_acc: 0.75\n",
            "epoch: 79, tr_loss: 0.00890, te_loss: 0.01177, tr_acc: 0.80, te_acc: 0.75\n",
            "epoch: 80, tr_loss: 0.00894, te_loss: 0.01152, tr_acc: 0.79, te_acc: 0.75\n",
            "epoch: 81, tr_loss: 0.00910, te_loss: 0.01154, tr_acc: 0.79, te_acc: 0.75\n",
            "epoch: 82, tr_loss: 0.00891, te_loss: 0.01189, tr_acc: 0.79, te_acc: 0.75\n",
            "epoch: 83, tr_loss: 0.00875, te_loss: 0.01151, tr_acc: 0.80, te_acc: 0.75\n",
            "epoch: 84, tr_loss: 0.00863, te_loss: 0.01197, tr_acc: 0.80, te_acc: 0.75\n",
            "epoch: 85, tr_loss: 0.00862, te_loss: 0.01152, tr_acc: 0.80, te_acc: 0.76\n",
            "epoch: 86, tr_loss: 0.00862, te_loss: 0.01172, tr_acc: 0.80, te_acc: 0.75\n",
            "epoch: 87, tr_loss: 0.00856, te_loss: 0.01199, tr_acc: 0.80, te_acc: 0.75\n",
            "epoch: 88, tr_loss: 0.00847, te_loss: 0.01225, tr_acc: 0.81, te_acc: 0.75\n",
            "epoch: 89, tr_loss: 0.00842, te_loss: 0.01216, tr_acc: 0.81, te_acc: 0.75\n",
            "epoch: 90, tr_loss: 0.00839, te_loss: 0.01215, tr_acc: 0.81, te_acc: 0.75\n",
            "epoch: 91, tr_loss: 0.00835, te_loss: 0.01223, tr_acc: 0.81, te_acc: 0.75\n",
            "epoch: 92, tr_loss: 0.00835, te_loss: 0.01221, tr_acc: 0.81, te_acc: 0.75\n",
            "epoch: 93, tr_loss: 0.00831, te_loss: 0.01204, tr_acc: 0.81, te_acc: 0.75\n",
            "epoch: 94, tr_loss: 0.00825, te_loss: 0.01297, tr_acc: 0.81, te_acc: 0.74\n",
            "epoch: 95, tr_loss: 0.00824, te_loss: 0.01267, tr_acc: 0.81, te_acc: 0.74\n",
            "epoch: 96, tr_loss: 0.00826, te_loss: 0.01300, tr_acc: 0.81, te_acc: 0.74\n",
            "epoch: 97, tr_loss: 0.00820, te_loss: 0.01270, tr_acc: 0.81, te_acc: 0.74\n",
            "epoch: 98, tr_loss: 0.00821, te_loss: 0.01266, tr_acc: 0.81, te_acc: 0.74\n",
            "epoch: 99, tr_loss: 0.00819, te_loss: 0.01328, tr_acc: 0.81, te_acc: 0.74\n",
            "epoch: 100, tr_loss: 0.00816, te_loss: 0.01351, tr_acc: 0.81, te_acc: 0.74\n",
            "epoch: 101, tr_loss: 0.00823, te_loss: 0.01397, tr_acc: 0.81, te_acc: 0.73\n",
            "epoch: 102, tr_loss: 0.00819, te_loss: 0.01421, tr_acc: 0.81, te_acc: 0.72\n",
            "epoch: 103, tr_loss: 0.00813, te_loss: 0.01405, tr_acc: 0.81, te_acc: 0.73\n",
            "epoch: 104, tr_loss: 0.00818, te_loss: 0.01325, tr_acc: 0.81, te_acc: 0.74\n",
            "epoch: 105, tr_loss: 0.00825, te_loss: 0.01324, tr_acc: 0.81, te_acc: 0.74\n",
            "epoch: 106, tr_loss: 0.00835, te_loss: 0.01271, tr_acc: 0.81, te_acc: 0.74\n",
            "epoch: 107, tr_loss: 0.00845, te_loss: 0.01285, tr_acc: 0.80, te_acc: 0.74\n",
            "epoch: 108, tr_loss: 0.00838, te_loss: 0.01333, tr_acc: 0.81, te_acc: 0.73\n",
            "epoch: 109, tr_loss: 0.00820, te_loss: 0.01190, tr_acc: 0.81, te_acc: 0.75\n",
            "epoch: 110, tr_loss: 0.00808, te_loss: 0.01234, tr_acc: 0.81, te_acc: 0.75\n",
            "epoch: 111, tr_loss: 0.00804, te_loss: 0.01400, tr_acc: 0.81, te_acc: 0.73\n",
            "epoch: 112, tr_loss: 0.00788, te_loss: 0.01260, tr_acc: 0.82, te_acc: 0.75\n",
            "epoch: 113, tr_loss: 0.00779, te_loss: 0.01252, tr_acc: 0.82, te_acc: 0.75\n",
            "epoch: 114, tr_loss: 0.00771, te_loss: 0.01276, tr_acc: 0.82, te_acc: 0.75\n",
            "epoch: 115, tr_loss: 0.00770, te_loss: 0.01323, tr_acc: 0.82, te_acc: 0.74\n",
            "epoch: 116, tr_loss: 0.00756, te_loss: 0.01313, tr_acc: 0.82, te_acc: 0.74\n",
            "epoch: 117, tr_loss: 0.00751, te_loss: 0.01276, tr_acc: 0.83, te_acc: 0.75\n",
            "epoch: 118, tr_loss: 0.00756, te_loss: 0.01194, tr_acc: 0.82, te_acc: 0.76\n",
            "epoch: 119, tr_loss: 0.00754, te_loss: 0.01156, tr_acc: 0.83, te_acc: 0.76\n",
            "epoch: 120, tr_loss: 0.00743, te_loss: 0.01121, tr_acc: 0.83, te_acc: 0.77\n",
            "epoch: 121, tr_loss: 0.00752, te_loss: 0.01089, tr_acc: 0.82, te_acc: 0.77\n",
            "epoch: 122, tr_loss: 0.00768, te_loss: 0.01129, tr_acc: 0.82, te_acc: 0.77\n",
            "epoch: 123, tr_loss: 0.00751, te_loss: 0.01140, tr_acc: 0.83, te_acc: 0.77\n",
            "epoch: 124, tr_loss: 0.00745, te_loss: 0.01101, tr_acc: 0.83, te_acc: 0.77\n",
            "epoch: 125, tr_loss: 0.00733, te_loss: 0.01094, tr_acc: 0.83, te_acc: 0.78\n",
            "epoch: 126, tr_loss: 0.00732, te_loss: 0.01038, tr_acc: 0.83, te_acc: 0.78\n",
            "epoch: 127, tr_loss: 0.00730, te_loss: 0.01102, tr_acc: 0.83, te_acc: 0.77\n",
            "epoch: 128, tr_loss: 0.00733, te_loss: 0.01118, tr_acc: 0.83, te_acc: 0.77\n",
            "epoch: 129, tr_loss: 0.00733, te_loss: 0.01093, tr_acc: 0.83, te_acc: 0.78\n",
            "epoch: 130, tr_loss: 0.00743, te_loss: 0.01060, tr_acc: 0.82, te_acc: 0.78\n",
            "epoch: 131, tr_loss: 0.00751, te_loss: 0.01103, tr_acc: 0.82, te_acc: 0.77\n",
            "epoch: 132, tr_loss: 0.00755, te_loss: 0.01120, tr_acc: 0.82, te_acc: 0.77\n",
            "epoch: 133, tr_loss: 0.00763, te_loss: 0.01059, tr_acc: 0.82, te_acc: 0.78\n",
            "epoch: 134, tr_loss: 0.00759, te_loss: 0.01104, tr_acc: 0.82, te_acc: 0.77\n",
            "epoch: 135, tr_loss: 0.00740, te_loss: 0.01051, tr_acc: 0.83, te_acc: 0.78\n",
            "epoch: 136, tr_loss: 0.00734, te_loss: 0.01088, tr_acc: 0.83, te_acc: 0.78\n",
            "epoch: 137, tr_loss: 0.00725, te_loss: 0.01115, tr_acc: 0.83, te_acc: 0.77\n",
            "epoch: 138, tr_loss: 0.00722, te_loss: 0.01086, tr_acc: 0.83, te_acc: 0.78\n",
            "epoch: 139, tr_loss: 0.00718, te_loss: 0.01079, tr_acc: 0.83, te_acc: 0.78\n",
            "epoch: 140, tr_loss: 0.00709, te_loss: 0.01046, tr_acc: 0.83, te_acc: 0.78\n",
            "epoch: 141, tr_loss: 0.00714, te_loss: 0.01049, tr_acc: 0.83, te_acc: 0.78\n",
            "epoch: 142, tr_loss: 0.00707, te_loss: 0.01099, tr_acc: 0.83, te_acc: 0.78\n",
            "epoch: 143, tr_loss: 0.00705, te_loss: 0.01061, tr_acc: 0.83, te_acc: 0.78\n",
            "epoch: 144, tr_loss: 0.00710, te_loss: 0.01026, tr_acc: 0.83, te_acc: 0.79\n",
            "epoch: 145, tr_loss: 0.00717, te_loss: 0.01055, tr_acc: 0.83, te_acc: 0.78\n",
            "epoch: 146, tr_loss: 0.00700, te_loss: 0.01013, tr_acc: 0.84, te_acc: 0.79\n",
            "epoch: 147, tr_loss: 0.00690, te_loss: 0.01017, tr_acc: 0.84, te_acc: 0.79\n",
            "epoch: 148, tr_loss: 0.00697, te_loss: 0.00987, tr_acc: 0.84, te_acc: 0.79\n",
            "epoch: 149, tr_loss: 0.00704, te_loss: 0.00966, tr_acc: 0.83, te_acc: 0.79\n"
          ]
        }
      ],
      "source": [
        "N_EPOCHS = 150\n",
        "\n",
        "model = LeNet5()\n",
        "model = model.to(device)\n",
        "\n",
        "loss_func = nn.CrossEntropyLoss()\n",
        "optimizer = torch.optim.Adam(params=model.parameters(), lr=0.001)\n",
        "\n",
        "tr_losses = []\n",
        "te_losses = []\n",
        "tr_accs = []\n",
        "te_accs = []\n",
        "\n",
        "for epoch in range(N_EPOCHS):\n",
        "    \n",
        "    # Training\n",
        "    model.train()\n",
        "    tr_epoch_loss = 0\n",
        "    tr_n_correct = 0\n",
        "    denom = 0\n",
        "    for x, y in train_loader:\n",
        "        x = x.to(device)\n",
        "        y = y.to(device)\n",
        "        y_pred = model(x) # (B,3,32,32) => (B,10)\n",
        "        loss = loss_func(y_pred, y)\n",
        "        cnt_correct, cnt_all = count_correct(y_pred, y)\n",
        "        tr_n_correct += cnt_correct\n",
        "        denom += cnt_all\n",
        "        optimizer.zero_grad()\n",
        "        loss.backward()\n",
        "        optimizer.step()\n",
        "        tr_epoch_loss += loss.item()\n",
        "    tr_epoch_loss_avg = tr_epoch_loss / denom\n",
        "    tr_epoch_acc = tr_n_correct / denom\n",
        "    tr_losses.append(tr_epoch_loss_avg)\n",
        "    tr_accs.append(tr_epoch_acc)\n",
        "\n",
        "    # Testing\n",
        "    model.eval()\n",
        "    te_epoch_loss = 0\n",
        "    te_n_correct = 0\n",
        "    denom = 0\n",
        "    for x, y in test_loader:\n",
        "        x = x.to(device)\n",
        "        y = y.to(device)\n",
        "        y_pred = model(x)\n",
        "        loss = loss_func(y_pred, y)\n",
        "        cnt_correct, cnt_all = count_correct(y_pred, y)\n",
        "        te_n_correct += cnt_correct\n",
        "        denom += cnt_all\n",
        "        te_epoch_loss += loss.item()\n",
        "    te_epoch_loss_avg = te_epoch_loss / denom\n",
        "    te_epoch_acc = te_n_correct / denom\n",
        "    te_losses.append(te_epoch_loss_avg)\n",
        "    te_accs.append(te_epoch_acc)\n",
        "\n",
        "    # Verbose\n",
        "    print('epoch: {}, tr_loss: {:.5f}, te_loss: {:.5f}, tr_acc: {:.2f}, te_acc: {:.2f}'.format(epoch, tr_epoch_loss_avg, te_epoch_loss_avg, tr_epoch_acc, te_epoch_acc))"
      ]
    },
    {
      "cell_type": "code",
      "execution_count": null,
      "metadata": {
        "colab": {
          "base_uri": "https://localhost:8080/",
          "height": 313
        },
        "id": "KMoO0NjcPAxw",
        "outputId": "284756fc-586a-48ec-8663-8db0c7bd90e9"
      },
      "outputs": [
        {
          "data": {
            "image/png": "[encoded data removed]",
            "text/plain": [
              "<Figure size 432x288 with 1 Axes>"
            ]
          },
          "metadata": {
            "needs_background": "light"
          },
          "output_type": "display_data"
        },
        {
          "data": {
            "text/plain": [
              "<Figure size 432x288 with 0 Axes>"
            ]
          },
          "metadata": {},
          "output_type": "display_data"
        }
      ],
      "source": [
        "x = np.arange(0,N_EPOCHS)\n",
        "plt.plot(x, tr_losses, label='Train')\n",
        "plt.plot(x, te_losses, label='Test')\n",
        "plt.title(\"Loss transition\")\n",
        "plt.xlabel(\"# of epochs\")\n",
        "plt.ylabel(\"Loss\")\n",
        "plt.legend()\n",
        "plt.show()\n",
        "plt.clf()"
      ]
    },
    {
      "cell_type": "code",
      "execution_count": null,
      "metadata": {
        "colab": {
          "base_uri": "https://localhost:8080/",
          "height": 313
        },
        "id": "-sNS825K0Ja-",
        "outputId": "c68481cd-d6fb-4756-9de4-aead2dbe30be"
      },
      "outputs": [
        {
          "data": {
            "image/png": "[encoded data removed]",
            "text/plain": [
              "<Figure size 432x288 with 1 Axes>"
            ]
          },
          "metadata": {
            "needs_background": "light"
          },
          "output_type": "display_data"
        },
        {
          "data": {
            "text/plain": [
              "<Figure size 432x288 with 0 Axes>"
            ]
          },
          "metadata": {},
          "output_type": "display_data"
        }
      ],
      "source": [
        "x = np.arange(0,N_EPOCHS)\n",
        "plt.plot(x, tr_accs, label='Train')\n",
        "plt.plot(x, te_accs, label='Test')\n",
        "plt.title(\"Accuracy transition\")\n",
        "plt.xlabel(\"# of epochs\")\n",
        "plt.ylabel(\"Accuracy\")\n",
        "plt.legend()\n",
        "plt.show()\n",
        "plt.clf()"
      ]
    },
    {
      "cell_type": "code",
      "execution_count": 1,
      "metadata": {},
      "outputs": [
        {
          "name": "stdout",
          "output_type": "stream",
          "text": [
            "Saved!\n"
          ]
        }
      ],
      "source": [
        "#-------------------run-only-in-ipynb-environment-------------------------------\n",
        "\n",
        "# ※CAUTION※ Save this file before executing the following code!!!\n",
        "# Generate py from ipynb and save it automatically\n",
        "\n",
        "if 'get_ipython' in globals():\n",
        "    import subprocess\n",
        "    subprocess.run(['jupyter', 'nbconvert', '--to', 'python', '*.ipynb'])\n",
        "    print('Saved!')\n",
        "# End of if 'if 'get_ipython' in globals():'\n",
        "\n",
        "#-------------------run-only-in-ipynb-environment-------------------------------"
      ]
    }
  ],
  "metadata": {
    "accelerator": "GPU",
    "colab": {
      "provenance": []
    },
    "gpuClass": "standard",
    "kernelspec": {
      "display_name": "Python 3",
      "language": "python",
      "name": "python3"
    },
    "language_info": {
      "codemirror_mode": {
        "name": "ipython",
        "version": 3
      },
      "file_extension": ".py",
      "mimetype": "text/x-python",
      "name": "python",
      "nbconvert_exporter": "python",
      "pygments_lexer": "ipython3",
      "version": "3.9.10"
    },
    "orig_nbformat": 4,
    "vscode": {
      "interpreter": {
        "hash": "82ed002fa2d4956f5c6aec99bcefe0f73a9f79882f3c9e2319b14958a5896ac5"
      }
    }
  },
  "nbformat": 4,
  "nbformat_minor": 0
}
